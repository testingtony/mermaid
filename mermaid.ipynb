{
 "cells": [
  {
   "cell_type": "code",
   "execution_count": 1,
   "metadata": {},
   "outputs": [],
   "source": [
    "from IPython.display import display, HTML\n",
    "from IPython import get_ipython\n",
    "def mermaid(line, cell):\n",
    "    import base64\n",
    "    import uuid\n",
    "\n",
    "    id = \"mm\" + str(uuid.uuid1())\n",
    "    lines = cell.split(\"\\n\")\n",
    "    encoded = \"\\\\n\".join(lines)\n",
    "    text = F\"\"\"\n",
    "    <div class=\"{ id }\"></div>\n",
    "    <link rel=\"stylesheet\" href=https://cdnjs.cloudflare.com/ajax/libs/font-awesome/4.7.0/css/font-awesome.min.css>\n",
    "    <script type=\"module\">\n",
    "        import mermaid from 'https://cdn.jsdelivr.net/npm/mermaid@10/+esm'\n",
    "        const graphDefinition = '{encoded}';\n",
    "        const element = document.querySelector('.{id}');\n",
    "        const {{ svg }} = await mermaid.render('graphDiv-{id}', graphDefinition);\n",
    "        element.innerHTML = svg;\n",
    "    </script>\n",
    "    \"\"\"\n",
    "    display(HTML(text))\n",
    "\n",
    "ip = get_ipython()\n",
    "ip.register_magic_function(mermaid, \"cell\")"
   ]
  },
  {
   "cell_type": "markdown",
   "metadata": {},
   "source": [
    "# Some Stuff\n",
    "\n",
    "```mermaid\n",
    "flowchart TB\n",
    "    A --> B(fa:fa-spinner A Bee)\n",
    "```"
   ]
  },
  {
   "cell_type": "code",
   "execution_count": 11,
   "metadata": {},
   "outputs": [
    {
     "data": {
      "text/html": [
       "\n",
       "    <div class=\"mmfc253e3a-0471-11ef-8993-485f9935dbca\"></div>\n",
       "    <link rel=\"stylesheet\" href=https://cdnjs.cloudflare.com/ajax/libs/font-awesome/4.7.0/css/font-awesome.min.css>\n",
       "    <script type=\"module\">\n",
       "        import mermaid from 'https://cdn.jsdelivr.net/npm/mermaid@10/+esm'\n",
       "        const graphDefinition = 'flowchart TB\\n    A --> B(A Bee fa:fa-spinner)\\n';\n",
       "        const element = document.querySelector('.mmfc253e3a-0471-11ef-8993-485f9935dbca');\n",
       "        const { svg } = await mermaid.render('graphDiv-mmfc253e3a-0471-11ef-8993-485f9935dbca', graphDefinition);\n",
       "        element.innerHTML = svg;\n",
       "    </script>\n",
       "    "
      ],
      "text/plain": [
       "<IPython.core.display.HTML object>"
      ]
     },
     "metadata": {},
     "output_type": "display_data"
    }
   ],
   "source": [
    "%%mermaid\n",
    "flowchart TB\n",
    "    A --> B(A Bee fa:fa-spinner)"
   ]
  },
  {
   "cell_type": "markdown",
   "metadata": {},
   "source": [
    "<pre class=\"mermaid\">\n",
    "flowchart TB\n",
    "    A-->B\n",
    "</pre>"
   ]
  },
  {
   "cell_type": "code",
   "execution_count": 3,
   "metadata": {},
   "outputs": [
    {
     "name": "stdout",
     "output_type": "stream",
     "text": [
      "0\n",
      "1\n",
      "2\n",
      "3\n",
      "4\n",
      "5\n",
      "6\n",
      "7\n",
      "8\n",
      "9\n"
     ]
    }
   ],
   "source": [
    "for i in range(10):\n",
    "    print(i)"
   ]
  },
  {
   "cell_type": "code",
   "execution_count": 9,
   "metadata": {},
   "outputs": [
    {
     "data": {
      "application/javascript": "\n        print('hello')\n\n",
      "text/plain": [
       "<IPython.core.display.Javascript object>"
      ]
     },
     "execution_count": 9,
     "metadata": {},
     "output_type": "execute_result"
    }
   ],
   "source": [
    "from IPython.display import Javascript\n",
    "\n",
    "script = \"\"\"\n",
    "        print('hello')\n",
    "\n",
    "\"\"\"\n",
    "\n",
    "\n",
    "Javascript(script)"
   ]
  },
  {
   "cell_type": "code",
   "execution_count": null,
   "metadata": {},
   "outputs": [
    {
     "data": {
      "application/javascript": "\n        import mermaid from 'https://cdn.jsdelivr.net/npm/mermaid@10/+esm'\n        const graphDefinition = 'flowchart TB\\n   A --> B\\n';\n        const {{ svg }} = await mermaid.render('graphDiv-{id}', graphDefinition);\n        print(svg)\n\n",
      "text/plain": [
       "<IPython.core.display.Javascript object>"
      ]
     },
     "metadata": {},
     "output_type": "display_data"
    }
   ],
   "source": [
    "from IPython.display import Javascript\n",
    "\n",
    "script = \"\"\"\n",
    "        import mermaid from 'https://cdn.jsdelivr.net/npm/mermaid@10/+esm'\n",
    "        const graphDefinition = 'flowchart TB\\\\n   A --> B\\\\n';\n",
    "        const {{ svg }} = await mermaid.render('graphDiv-{id}', graphDefinition);\n",
    "        print(svg)\n",
    "\n",
    "\"\"\"\n",
    "\n",
    "\n",
    "Javascript(script)"
   ]
  }
 ],
 "metadata": {
  "kernelspec": {
   "display_name": "venv",
   "language": "python",
   "name": "python3"
  },
  "language_info": {
   "codemirror_mode": {
    "name": "ipython",
    "version": 3
   },
   "file_extension": ".py",
   "mimetype": "text/x-python",
   "name": "python",
   "nbconvert_exporter": "python",
   "pygments_lexer": "ipython3",
   "version": "3.12.3"
  }
 },
 "nbformat": 4,
 "nbformat_minor": 2
}
