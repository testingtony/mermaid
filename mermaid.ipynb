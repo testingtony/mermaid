{
 "cells": [
  {
   "cell_type": "code",
   "execution_count": 1,
   "metadata": {},
   "outputs": [],
   "source": [
    "from IPython.display import display, HTML\n",
    "from IPython import get_ipython\n",
    "def mermaid(line, cell):\n",
    "    import base64\n",
    "    import uuid\n",
    "\n",
    "    id = \"mm\" + str(uuid.uuid1())\n",
    "    lines = cell.split(\"\\n\")\n",
    "    encoded = \"\\\\n\".join(lines)\n",
    "    text = F\"\"\"\n",
    "    <div class=\"{ id }\"></div>\n",
    "    <link rel=\"stylesheet\" href=https://cdnjs.cloudflare.com/ajax/libs/font-awesome/4.7.0/css/font-awesome.min.css>\n",
    "    <script type=\"module\">\n",
    "        import mermaid from 'https://cdn.jsdelivr.net/npm/mermaid@10/+esm'\n",
    "        const graphDefinition = '{encoded}';\n",
    "        const element = document.querySelector('.{id}');\n",
    "        const {{ svg }} = await mermaid.render('graphDiv-{id}', graphDefinition);\n",
    "        element.innerHTML = svg;\n",
    "    </script>\n",
    "    \"\"\"\n",
    "    display(HTML(text))\n",
    "\n",
    "ip = get_ipython()\n",
    "ip.register_magic_function(mermaid, \"cell\")"
   ]
  },
  {
   "cell_type": "markdown",
   "metadata": {},
   "source": [
    "# Some Stuff\n",
    "\n",
    "```mermaid\n",
    "flowchart TB\n",
    "    A --> B(fa:fa-spinner A Bee)\n",
    "```"
   ]
  },
  {
   "cell_type": "code",
   "execution_count": 2,
   "metadata": {},
   "outputs": [
    {
     "data": {
      "text/html": [
       "\n",
       "    <div class=\"mm46e320a5-046e-11ef-afbd-485f9935dbca\"></div>\n",
       "    <link rel=\"stylesheet\" href=https://cdnjs.cloudflare.com/ajax/libs/font-awesome/4.7.0/css/font-awesome.min.css>\n",
       "    <script type=\"module\">\n",
       "        import mermaid from 'https://cdn.jsdelivr.net/npm/mermaid@10/+esm'\n",
       "        const graphDefinition = 'flowchart TB\\n    A --> B(fa:fa-spinner A Bee)\\n';\n",
       "        const element = document.querySelector('.mm46e320a5-046e-11ef-afbd-485f9935dbca');\n",
       "        const { svg } = await mermaid.render('graphDiv-mm46e320a5-046e-11ef-afbd-485f9935dbca', graphDefinition);\n",
       "        element.innerHTML = svg;\n",
       "    </script>\n",
       "    "
      ],
      "text/plain": [
       "<IPython.core.display.HTML object>"
      ]
     },
     "metadata": {},
     "output_type": "display_data"
    }
   ],
   "source": [
    "%%mermaid\n",
    "flowchart TB\n",
    "    A --> B(fa:fa-spinner A Bee)"
   ]
  }
 ],
 "metadata": {
  "kernelspec": {
   "display_name": "venv",
   "language": "python",
   "name": "python3"
  },
  "language_info": {
   "codemirror_mode": {
    "name": "ipython",
    "version": 3
   },
   "file_extension": ".py",
   "mimetype": "text/x-python",
   "name": "python",
   "nbconvert_exporter": "python",
   "pygments_lexer": "ipython3",
   "version": "3.12.3"
  }
 },
 "nbformat": 4,
 "nbformat_minor": 2
}
